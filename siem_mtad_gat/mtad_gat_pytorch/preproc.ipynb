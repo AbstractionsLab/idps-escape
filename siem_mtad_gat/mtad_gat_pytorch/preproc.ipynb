{
 "cells": [
  {
   "cell_type": "code",
   "execution_count": null,
   "metadata": {},
   "outputs": [],
   "source": [
    "#ingested_data=\"/home/alab/siem-mtad-gat/siem_mtad_gat/mtad_gat_pytorch/datasets/sample/alerts.json\""
   ]
  },
  {
   "cell_type": "code",
   "execution_count": null,
   "metadata": {},
   "outputs": [],
   "source": [
    "\"\"\"\n",
    "import json\n",
    "import pandas as pd\n",
    "import numpy as np\n",
    "from os import listdir, makedirs, path\n",
    "\n",
    "with open(ingested_data, \"r\" } as handle:\n",
    "        df = pd.json_normalize([\n",
    "            json.loads(line } for line in handle\n",
    "        ] }\"\"\"\n"
   ]
  },
  {
   "cell_type": "code",
   "execution_count": null,
   "metadata": {},
   "outputs": [],
   "source": [
    "\n"
   ]
  },
  {
   "cell_type": "code",
   "execution_count": null,
   "metadata": {},
   "outputs": [],
   "source": [
    "#df['timestamp']=pd.to_datetime( df['timestamp'] }\n",
    "#df['data.cpu_usage_%']=df['data.cpu_usage_%'].replace(\"NaN\" :  { np.nan }.astype(''''' ' ' \"float\"''''''')\n",
    "#pr\"int\"(df.filter(['timestamp','location','data.cpu_usage_%','agent.id','data.flow.src_ip'], axis=1))"
   ]
  },
  {
   "cell_type": "code",
   "execution_count": null,
   "metadata": {},
   "outputs": [],
   "source": [
    "default_prepr_config = {\n",
    "    'timestamp': '1minute',\n",
    "    'rule.level': 'avg',\n",
    "    'rule.firedtimes': 'avg'\n",
    "    }\n",
    "list(default_prepr_config.keys())"
   ]
  },
  {
   "cell_type": "code",
   "execution_count": null,
   "metadata": {},
   "outputs": [],
   "source": [
    "\n",
    "#df0 = df[[col for col in default_prepr_config]] \n"
   ]
  },
  {
   "cell_type": "code",
   "execution_count": null,
   "metadata": {},
   "outputs": [],
   "source": [
    "#if df.iloc[:, 0].dtype == \"datetime64[ns, UTC]\":\n",
    "#            raise(\"Error ...\")"
   ]
  },
  {
   "cell_type": "code",
   "execution_count": 1,
   "metadata": {},
   "outputs": [
    {
     "name": "stdout",
     "output_type": "stream",
     "text": [
      "Data normalized\n",
      "Data normalized\n",
      "[[0.01063442 0.9195671  1.         0.01891279 0.990099  ]\n",
      " [0.0133214  0.9176445  1.         0.02836895 0.18811882]\n",
      " [0.01483297 0.91768646 1.         0.02836895 0.38613862]\n",
      " ...\n",
      " [0.3683815  0.92915726 1.         0.38534307 0.18811882]\n",
      " [0.36509132 0.9291611  1.         0.38534307 0.38613862]\n",
      " [0.3828845  0.9292259  1.         0.38534307 0.5841584 ]]\n"
     ]
    }
   ],
   "source": [
    "from os import listdir, makedirs, path\n",
    "import pandas as pd\n",
    "from preprocessing_alab import Preprocessor\n",
    "\n",
    "path_folder = r\"/home/alab/siem-mtad-gat/siem_mtad_gat/mtad_gat_pytorch/datasets/sample/processed\"\n",
    "file_path = path.join(path_folder, \"input\" + \".pkl\")\n",
    "\n",
    " \n",
    "\n",
    "preprocessor = Preprocessor()\n",
    "train_data,test_data = preprocessor.preprocess(pd.read_pickle(file_path))"
   ]
  },
  {
   "cell_type": "code",
   "execution_count": 2,
   "metadata": {},
   "outputs": [],
   "source": [
    "from train_alab import   train_alab\n",
    "\n"
   ]
  },
  {
   "cell_type": "code",
   "execution_count": 3,
   "metadata": {},
   "outputs": [
    {
     "name": "stdout",
     "output_type": "stream",
     "text": [
      "11062024_123451\n"
     ]
    },
    {
     "ename": "NameError",
     "evalue": "name 'torch' is not defined",
     "output_type": "error",
     "traceback": [
      "\u001b[0;31m---------------------------------------------------------------------------\u001b[0m",
      "\u001b[0;31mNameError\u001b[0m                                 Traceback (most recent call last)",
      "Cell \u001b[0;32mIn[3], line 1\u001b[0m\n\u001b[0;32m----> 1\u001b[0m \u001b[43mtrain_alab\u001b[49m\u001b[43m(\u001b[49m\u001b[43mtrain_data\u001b[49m\u001b[43m,\u001b[49m\u001b[43m \u001b[49m\u001b[43mtest_data\u001b[49m\u001b[43m)\u001b[49m\n",
      "File \u001b[0;32m~/siem-mtad-gat/siem-mtad-gat/mtad_gat_pytorch/train_alab.py:34\u001b[0m, in \u001b[0;36mtrain_alab\u001b[0;34m(train_data, test_data, config_file)\u001b[0m\n\u001b[1;32m     28\u001b[0m     os\u001b[38;5;241m.\u001b[39mmakedirs(log_dir)\n\u001b[1;32m     29\u001b[0m save_path \u001b[38;5;241m=\u001b[39m \u001b[38;5;124mf\u001b[39m\u001b[38;5;124m\"\u001b[39m\u001b[38;5;132;01m{\u001b[39;00moutput_path\u001b[38;5;132;01m}\u001b[39;00m\u001b[38;5;124m/\u001b[39m\u001b[38;5;132;01m{\u001b[39;00m\u001b[38;5;28mid\u001b[39m\u001b[38;5;132;01m}\u001b[39;00m\u001b[38;5;124m\"\u001b[39m\n\u001b[0;32m---> 34\u001b[0m x_train \u001b[38;5;241m=\u001b[39m \u001b[43mtorch\u001b[49m\u001b[38;5;241m.\u001b[39mfrom_numpy(train_data)\u001b[38;5;241m.\u001b[39mfloat()\n\u001b[1;32m     35\u001b[0m \u001b[38;5;28;01mif\u001b[39;00m test_data\u001b[38;5;241m.\u001b[39mshape[\u001b[38;5;241m0\u001b[39m]\u001b[38;5;241m!=\u001b[39m\u001b[38;5;241m0\u001b[39m : x_test \u001b[38;5;241m=\u001b[39m torch\u001b[38;5;241m.\u001b[39mfrom_numpy(test_data)\u001b[38;5;241m.\u001b[39mfloat()\n\u001b[1;32m     36\u001b[0m \u001b[38;5;28;01melse\u001b[39;00m: x_test \u001b[38;5;241m=\u001b[39m \u001b[38;5;28;01mNone\u001b[39;00m\n",
      "\u001b[0;31mNameError\u001b[0m: name 'torch' is not defined"
     ]
    }
   ],
   "source": [
    "train_alab(train_data, test_data)"
   ]
  },
  {
   "cell_type": "markdown",
   "metadata": {},
   "source": [
    "## Prepare config files"
   ]
  },
  {
   "cell_type": "code",
   "execution_count": null,
   "metadata": {},
   "outputs": [],
   "source": [
    "\n"
   ]
  },
  {
   "cell_type": "code",
   "execution_count": null,
   "metadata": {},
   "outputs": [],
   "source": [
    "\n",
    "train_config = {\n",
    "  \"window_size\" :  { \"type\" : \"int\" , \"default\" : 100  },\n",
    "  \"spec_res\" :  { \"type\" : \"bool\", \"default\" : False },\n",
    "    # -- Model params ---\n",
    "    # 1D conv layer\n",
    "   \"kernel_size\" :  { \"type\" : \"int\", \"default\" :7 },\n",
    "   \"use_gatv2\" :  {\"type\" : \"bool\", \"default\" :True },\n",
    "   \"feat_gat_embed_dim\" :  { \"type\" : \"int\", \"default\" :None },\n",
    "   \"time_gat_embed_dim\" :  { \"type\" : \"int\", \"default\" :None },\n",
    "    # GRU layer\n",
    "   \"gru_n_layers\" :  {  \"type\" : \"int\", \"default\" :1 },\n",
    "   \"gru_hid_dim\" :  {  \"type\" : \"int\", \"default\" :150 },\n",
    "    # Forecasting Model\n",
    "   \"fc_n_layers\" :  {  \"type\" : \"int\", \"default\" :3 },\n",
    "   \"fc_hid_dim\" :  { \"type\" : \"int\", \"default\" :150 },\n",
    "    # Reconstruction Model\n",
    "   \"recon_n_layers\" :  { \"type\" : \"int\", \"default\" :1 },\n",
    "   \"recon_hid_dim\" :  { \"type\" : \"int\", \"default\" :150 },\n",
    "    # Other\n",
    "   \"alpha\" :  { \"type\" : \"float\", \"default\" :0.2 },\n",
    "    # --- Train params ---\n",
    "   \"epochs\" :  { \"type\" : \"int\", \"default\" :30 },\n",
    "   \"val_split\" :  { \"type\" : \"float\", \"default\" :0.1 },\n",
    "   \"bs\" :  { \"type\" : \"int\", \"default\" :256 },\n",
    "   \"init_lr\" :  { \"type\" : \"float\", \"default\" :1e-3 },\n",
    "   \"shuffle_dataset\" :  { \"type\" : \"bool\", \"default\" :True },\n",
    "   \"dropout\" :  { \"type\" : \"float\", \"default\" :0.3 },\n",
    "   \"use_cuda\" :  { \"type\" :\"bool\", \"default\" :True },\n",
    "   \"print_every\" :  { \"type\" : \"int\", \"default\" :1 },\n",
    "   \"log_tensorboard\" :  { \"type\" :\"bool\", \"default\" :True },\n",
    "\n",
    "    # --- Predictor params ---\n",
    "   \"scale_scores\" :  { \"type\" :\"bool\", \"default\" :False },\n",
    "   \"use_mov_av\" :  { \"type\" :\"bool\", \"default\" :False },\n",
    "   \"gamma\" :  { \"type\" : \"float\", \"default\" :1 },\n",
    "   \"level\" :  { \"type\" : \"float\", \"default\" : None },\n",
    "   \"q\" :  { \"type\" : \"float\", \"default\" : None },\n",
    "   \"dynamic_pot\" :  { \"type\" :\"bool\", \"default\" :False },\n",
    " }   "
   ]
  },
  {
   "cell_type": "code",
   "execution_count": null,
   "metadata": {},
   "outputs": [],
   "source": [
    "import json\n",
    "with open(\"train_config_defaut.json\", \"w\") as out_file:\n",
    "    json.dump(train_config, out_file, indent = 2)\n",
    "out_file.close() "
   ]
  },
  {
   "cell_type": "code",
   "execution_count": null,
   "metadata": {},
   "outputs": [],
   "source": [
    "import json,os\n",
    "os.path.exists(\"train_config_defaut.json\")\n",
    "\n",
    "        \n",
    "\n",
    "        "
   ]
  },
  {
   "cell_type": "code",
   "execution_count": null,
   "metadata": {},
   "outputs": [],
   "source": [
    "with open(\"train_config_defaut.json\", \"r\") as file:\n",
    "        #print(file.read())\n",
    "        config=json.load(file)\n"
   ]
  },
  {
   "cell_type": "code",
   "execution_count": null,
   "metadata": {},
   "outputs": [],
   "source": [
    "list(config.keys())\n",
    "type(config['shuffle_dataset']['default']) is eval(config['shuffle_dataset']['type'])"
   ]
  },
  {
   "cell_type": "code",
   "execution_count": null,
   "metadata": {},
   "outputs": [],
   "source": [
    "from config_train import TrainConfigManager"
   ]
  },
  {
   "cell_type": "code",
   "execution_count": null,
   "metadata": {},
   "outputs": [],
   "source": [
    "conf_manager=TrainConfigManager('train_config_prva.json')"
   ]
  },
  {
   "cell_type": "code",
   "execution_count": null,
   "metadata": {},
   "outputs": [],
   "source": [
    "\n",
    "\n",
    "\n"
   ]
  }
 ],
 "metadata": {
  "kernelspec": {
   "display_name": "siem-mtad-gat-2crsfNaz-py3.10",
   "language": "python",
   "name": "python3"
  },
  "language_info": {
   "codemirror_mode": {
    "name": "ipython",
    "version": 3
   },
   "file_extension": ".py",
   "mimetype": "text/x-python",
   "name": "python",
   "nbconvert_exporter": "python",
   "pygments_lexer": "ipython3",
   "version": "3.10.12"
  }
 },
 "nbformat": 4,
 "nbformat_minor": 2
}
